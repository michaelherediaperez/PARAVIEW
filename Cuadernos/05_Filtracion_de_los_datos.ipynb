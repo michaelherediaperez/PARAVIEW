{
  "nbformat": 4,
  "nbformat_minor": 0,
  "metadata": {
    "colab": {
      "name": "05_Filtracion_de_los_datos.ipynb",
      "provenance": []
    },
    "kernelspec": {
      "name": "python3",
      "display_name": "Python 3"
    }
  },
  "cells": [
    {
      "cell_type": "markdown",
      "metadata": {
        "id": "yIwybFJmRXsc"
      },
      "source": [
        "# 05. Filtración de los datos\r\n",
        "\r\n",
        "---\r\n",
        "\r\n",
        "Michael Heredia Pérez - mherediap@unal.edu.co - Universidad Nacional de Colombia Sede Manizales\r\n",
        "\r\n",
        "---\r\n",
        "\r\n",
        "En este cuaderno se presentan algunos comandos básicos para el uso de filtros desde ```pvpython```.\r\n",
        "\r\n"
      ]
    },
    {
      "cell_type": "code",
      "metadata": {
        "id": "Ifn_tOMdSvjK"
      },
      "source": [
        "from paraview.simple import *"
      ],
      "execution_count": null,
      "outputs": []
    },
    {
      "cell_type": "markdown",
      "metadata": {
        "id": "GebvVnV7Sy9z"
      },
      "source": [
        "Para crear un filtro se crea el objeto usando su nombre como una función ```Filtro()``` y este se aplicará sobre la fuente activa. En el argumento de la función se puede especificar la fuente sobre la cual se quiere aplicar."
      ]
    },
    {
      "cell_type": "code",
      "metadata": {
        "id": "90KT81ZHS6CI"
      },
      "source": [
        "filtro = Shrink() # Filtro aplicadosobre la fuente activa atuomáticamente.\r\n",
        "filtro = Shrink(Input = reader) # Filtro aplicado sobre la fuente \"reader\"."
      ],
      "execution_count": null,
      "outputs": []
    },
    {
      "cell_type": "markdown",
      "metadata": {
        "id": "kS34GnU4TZvy"
      },
      "source": [
        "### Multiples conexiones\r\n",
        "\r\n",
        "Recordemos que la fuente de un filtro puede venir de múltiples conexiones, para lograr estas conexiones múltiples se deben pasar las fuentes como una lista en el argumento del filtro ```AppendDatasets()```"
      ]
    },
    {
      "cell_type": "code",
      "metadata": {
        "id": "kzf_1GPfTwQA"
      },
      "source": [
        "# Las fuentes que se emplean\r\n",
        "fuente_1 = Sphere()\r\n",
        "fuente_2 = Cone()\r\n",
        "fuente_3 = Cylinder()\r\n",
        "\r\n",
        "conexion_mult = AppendDatasets(Input = [fuente_1, fuente_2, fuente_3])"
      ],
      "execution_count": null,
      "outputs": []
    },
    {
      "cell_type": "markdown",
      "metadata": {
        "id": "DCQaqfHVU4FB"
      },
      "source": [
        "### Multiples fuentes de entrada\r\n",
        "\r\n",
        "Se componen las fuentes de entrada mediante la función ```ResampleWithDataSet()```. **Hay que tener cuidado con esta función** ya que su uso no está actualizado en el libro guia ParaViewGuide-5.8.1.\r\n",
        "\r\n",
        "Si creamos una fuente nueva\r\n"
      ]
    },
    {
      "cell_type": "code",
      "metadata": {
        "id": "46enqYqIWChk"
      },
      "source": [
        "fuente_4 = Wavelet()"
      ],
      "execution_count": null,
      "outputs": []
    },
    {
      "cell_type": "markdown",
      "metadata": {
        "id": "2eBRw4SYWF4N"
      },
      "source": [
        "El manual diría que los argumentos de la función para componer la ```fuente_4``` con la ```fuente_3```, por ejemplo, sería de la siguiente forma:"
      ]
    },
    {
      "cell_type": "code",
      "metadata": {
        "id": "vJ80gUyOWV9Z"
      },
      "source": [
        "remuestreo_con_datos = ResampeWithDataset(Input = fuente_3, Source = fuente_4)"
      ],
      "execution_count": null,
      "outputs": []
    },
    {
      "cell_type": "markdown",
      "metadata": {
        "id": "bm0oVDwhWkCl"
      },
      "source": [
        "Sin embargo, [desde la versión 5.7](https://blog.kitware.com/paraview-5-7-0-release-notes/) de ParaView estos argumentos fueron cambiados por los siguientes:"
      ]
    },
    {
      "cell_type": "code",
      "metadata": {
        "id": "bjoexN5IW8kW"
      },
      "source": [
        "remuestreo_con_datos = ResampeWithDataset(SourceDataArrays = fuente_3, \r\n",
        "                                          DestinationMesh = fuente_4)"
      ],
      "execution_count": null,
      "outputs": []
    },
    {
      "cell_type": "markdown",
      "metadata": {
        "id": "su1wpXniXJwC"
      },
      "source": [
        "El cambio es:\r\n",
        "\r\n",
        "| Antes de la versión 5.7 | Después de la versión 5.7 |\r\n",
        "| ---| --- |\r\n",
        "| ```Input = ``` | ```SourceDataArrays = ``` |\r\n",
        "| ```Source = ``` | ```DestinationMesh = ``` | "
      ]
    },
    {
      "cell_type": "markdown",
      "metadata": {
        "id": "3f7JSbwgdUIi"
      },
      "source": [
        "### Modificar las conexiones de entrada\r\n",
        "\r\n",
        "Es como si se cambiara una propiedad en el filtro. \r\n",
        "\r\n",
        "Si la fuente ```fuente``` es a la cual queremos cambiar entonces en un filtro con una única entrada bastará con cambiar la propiedad ```Input```:"
      ]
    },
    {
      "cell_type": "code",
      "metadata": {
        "id": "4xb9OMAJdT0q"
      },
      "source": [
        "filtro = Shrink()       # Aplicado sobre la fuente activa\r\n",
        "filtro.Input = fuente "
      ],
      "execution_count": null,
      "outputs": []
    },
    {
      "cell_type": "markdown",
      "metadata": {
        "id": "MeOEJvuufb6X"
      },
      "source": [
        "Para filtros con entradas de conexiones multiples"
      ]
    },
    {
      "cell_type": "code",
      "metadata": {
        "id": "hdqgqfo-fm-I"
      },
      "source": [
        "conexion_mult.Input = [fuente_3, fuente_4]"
      ],
      "execution_count": null,
      "outputs": []
    },
    {
      "cell_type": "markdown",
      "metadata": {
        "id": "OcpqiRQ_fwnj"
      },
      "source": [
        "Para filtros con múltiples fuentes de entradas"
      ]
    },
    {
      "cell_type": "code",
      "metadata": {
        "id": "esLHRZFXf4fq"
      },
      "source": [
        "remuestro_con_datos.SourceDataArrays = fuente_1     # Input\r\n",
        "remuestreo_con_datos.DestinationMesh = fuente_2     # Source"
      ],
      "execution_count": null,
      "outputs": []
    },
    {
      "cell_type": "markdown",
      "metadata": {
        "id": "2-EXxcVPgMqU"
      },
      "source": [
        "## Cambiar propiedades de los filtros\r\n",
        "\r\n",
        "La modificaciones de las propiedades es accesible desde ```pvpython``` de igual forma a como se ha visto en otras secciones y con un procedimiento similar al de cambiar la fuente de entrada.\r\n",
        "\r\n",
        "Para conocer las propiedades disponibles para ser modificadas de un filtro, se puede emplear el comando ```help()```."
      ]
    },
    {
      "cell_type": "markdown",
      "metadata": {
        "id": "F7LmvZS-hHUT"
      },
      "source": [
        "## Filtros para subgrupos de datos.\r\n",
        "\r\n",
        "### ```Clip```\r\n",
        "\r\n",
        "Algunos comandos sobre el filtro ```Clip```."
      ]
    },
    {
      "cell_type": "code",
      "metadata": {
        "id": "UUTvdQRdj700"
      },
      "source": [
        "# Para crear el filtro.\r\n",
        "filtro_clip = Clip(Input = ...)\r\n",
        "\r\n",
        "# Para especificar el tipo de Clip o \"ClipType\"\r\n",
        "filtro_clip.ClipType('Plane')\r\n",
        "\r\n",
        "# o mediante la API de propiedades\r\n",
        "SetProperties(filtro_clip, ClipType = 'Plane')\r\n",
        "\r\n",
        "# Para conocer los tipos de clip disponibles\r\n",
        "filtro_clip.GetProperty('ClipType').GetAvailable()\r\n",
        "\r\n",
        "# Para establecer el origen y vector normal del plano\r\n",
        "filtro_clip.ClipType.Origin = [0, 0, 0]\r\n",
        "filtro_clip.ClipType.Normal = [1, 0, 0]\r\n",
        "\r\n",
        "# Si se quisiera cambiar a una esfera como tipo de clip y establecer sus \r\n",
        "# propiedades.\r\n",
        "filtro_clip.ClipType = 'Sphere'\r\n",
        "filtro_clip.ClipType.Center = [0, 0, 0]\r\n",
        "filtro_clip.ClipType.Radius = 12\r\n",
        "# De igual forma se podría a través de la API de propiedades.\r\n",
        "\r\n",
        "# Para establecer el valor el Crinkle clipping\r\n",
        "filtro_clip.Crinkleclip = 1\r\n",
        "\r\n",
        "# Para hacer clip con un escalar\r\n",
        "filtro_clip.ClipType = 'Scalar'\r\n",
        "filtro_clip.Scalar = ('POINTS', 'Temp')     # El tipo y el arreglo.\r\n",
        "filtro_clip = 100"
      ],
      "execution_count": null,
      "outputs": []
    },
    {
      "cell_type": "markdown",
      "metadata": {
        "id": "rzYkMMDcFRQN"
      },
      "source": [
        "## Filtros para modificación geométrica (*geometric manipulation*)\n",
        "\n",
        "### ```Transform```\n",
        "\n",
        "Con este filtro se hace un traslado, rotación o escalamiento de la geometría. Para crearlo desde ```pvpython``` se especifica la entrad, o de no hacerlo se tomará la fuente activa como entrada; los comandos son los siguientes:"
      ]
    },
    {
      "cell_type": "code",
      "metadata": {
        "id": "uRU0vpdDFiek"
      },
      "source": [
        "# Se aplica el filtro.\n",
        "transformando = Transform(Input = ...)\n",
        "\n",
        "# Se modifican las propiedades del filtro.\n",
        "transformando.Transforme.Scale = [1, 2, 1]\n",
        "transformando.Transforme.Translate = [100, 0, 0]\n",
        "transformando.Transforme.Rotate = [0, 0, 0]        # D igual si s epusiera o no."
      ],
      "execution_count": null,
      "outputs": []
    },
    {
      "cell_type": "markdown",
      "metadata": {
        "id": "J-icIlLaGnG7"
      },
      "source": [
        "## Filtros para muestreo (*sampling*)\n",
        "\n",
        "### ```Stream Tracer```\n",
        "\n",
        "Este filtro produce líneas de flujo en un cmpo vectorial, y e eejmplo perfecto desde los archivos ejemplo de paraview son es el modelado ```disk_out_refex2.ex2```.\n",
        "\n",
        "La sintaxis para crear el filtro con este ejemplo es la siguiente:\n",
        "\n"
      ]
    },
    {
      "cell_type": "code",
      "metadata": {
        "id": "r-VZf9YPWNaF"
      },
      "source": [
        "# Se crea la fuente.\n",
        "disk_out_refex2 = FindSource('disk_out_ref.ex2')\n",
        "\n",
        "# Se crea el filtro Stream Tracer.\n",
        "filtro_stream_tracer = SteamTracer(Input = disk_out_refex2,\n",
        "                                   SeedType = 'Point Source')\n",
        "filtro_stream_tracer.Vectors = ['Points', 'V']\n",
        "\n",
        "# Se inicia la semilla.\n",
        "filtro_stream_tracer.SeedType.Center = [0, 0, 0.079]  # Random.\n",
        "filtro_stream_tracer.SeedType.Radius = 2.015\n",
        "\n",
        "# Se muestran los datos en la vista.\n",
        "Show()\n",
        "\n",
        "# Se aplica Tube Filter.\n",
        "filtro_tube = Tube(Input = filtro_stream_tracer)    # El input del filtro Tube \n",
        "                                                    # será la salida del filtro \n",
        "                                                    # Stream Tracer.\n",
        "\n",
        "# Se modifican algunas propiedades del filtro y se muestra.\n",
        "filtro_tube.Radius = 0.16       # Se podría dar en función de otro valor.\n",
        "Show()"
      ],
      "execution_count": null,
      "outputs": []
    }
  ]
}