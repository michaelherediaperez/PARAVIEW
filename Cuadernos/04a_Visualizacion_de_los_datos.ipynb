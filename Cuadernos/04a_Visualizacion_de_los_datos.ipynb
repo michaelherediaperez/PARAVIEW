{
  "nbformat": 4,
  "nbformat_minor": 0,
  "metadata": {
    "colab": {
      "name": "04a_Visualizacion_de_los_datos.ipynb",
      "provenance": []
    },
    "kernelspec": {
      "name": "python3",
      "display_name": "Python 3"
    }
  },
  "cells": [
    {
      "cell_type": "markdown",
      "metadata": {
        "id": "cHDcETzIIDnu"
      },
      "source": [
        "# 04. Visualizacion de los datos\n",
        "\n",
        "---\n",
        "\n",
        "Michael Heredia Pérez - mherediap@unal.edu.co - Universidad Nacional de Colombia Sede Manizales\n",
        "\n",
        "---\n",
        "\n",
        "En este cuaderno se presentan los comandos básicos para visualizar información desde el Python Shell de paraview.\n",
        "\n",
        "\n",
        "## Vistas Múltiples\n",
        "\n",
        "\n",
        "\n"
      ]
    },
    {
      "cell_type": "code",
      "metadata": {
        "id": "s7XnixKAerlp"
      },
      "source": [
        "from paraview.simple import *"
      ],
      "execution_count": null,
      "outputs": []
    },
    {
      "cell_type": "code",
      "metadata": {
        "id": "IMYYOeOTH3dz"
      },
      "source": [
        "vista = CreateView('RenderView')    # Crea la vista dada en el argumento.\n",
        "vista = CreateRenderView()          # Crea una vista de renderizado."
      ],
      "execution_count": null,
      "outputs": []
    },
    {
      "cell_type": "markdown",
      "metadata": {
        "id": "qBuUUzQpe-C1"
      },
      "source": [
        "En el trabajo con multiples vistas, se trabajará con aquella que sea activa a no ser que otra sea especificada, por lo que se deberá definir la vista activa con la función ```SetActiveView```:"
      ]
    },
    {
      "cell_type": "code",
      "metadata": {
        "id": "e68yX8VPfV3B"
      },
      "source": [
        "vista_01 = CreateRenderView()\r\n",
        "vista_02 = CreateRenderView()   # Esta es la vista activa por crearse de última.\r\n",
        "\r\n",
        "# Se comprueba que la vista_01 no está activa.\r\n",
        "vista_01 == GetActiveView()\r\n",
        "# False\r\n",
        "\r\n",
        "# Se hace a la vista_01 la vista activa.\r\n",
        "SetActiveView(vista_01)\r\n",
        "vista_01 == GetActiveView()\r\n",
        "# True"
      ],
      "execution_count": null,
      "outputs": []
    },
    {
      "cell_type": "markdown",
      "metadata": {
        "id": "3v5IjM5dgKYz"
      },
      "source": [
        "Cuando se usa el Python Shell en paraview, las vistas creadas se ubicarán atuomáticamente en la pestaña activa dividiendo la vista activa. \r\n",
        "\r\n",
        "Dicha ubicación se puede modificar en ```pvpython``` empleando el API para pestañas."
      ]
    },
    {
      "cell_type": "code",
      "metadata": {
        "id": "izIoNtdqgXC9"
      },
      "source": [
        "# Informacion de las pestanas abiertas.\r\n",
        "pestanas = GetLayouts()\r\n",
        "\r\n",
        "# Información de una pestaña que contiene determinada vista.\r\n",
        "GetLayout(vista_02)\r\n",
        "\r\n",
        "# Para crear una neuva pestaña:\r\n",
        "nueva_pestana = servermanager.misc.ViewLayout(registrationGroup = \"layouts\")\r\n",
        "\r\n",
        "# Crear divisiones en la ventana de visualización:\r\n",
        "vista = GetActiveView()     # Se busca la vista activa.\r\n",
        "pestana = GetLayout(vista)  # Se busca la pestana donde se encuentra.\r\n",
        "# Se obtiene la dirección para la celda que se crea al dividir.\r\n",
        "posicion_ID = pestana.SplitViewVertical(view == vista, fraction = 0.5)\r\n",
        "                                                    # Porporcion de la división.\r\n",
        "\r\n",
        "# Se asigna una vista (la vista_02) a la nueva celda.\r\n",
        "pestana.AssignView(posicion_ID, vista_02)"
      ],
      "execution_count": null,
      "outputs": []
    },
    {
      "cell_type": "markdown",
      "metadata": {
        "id": "WjJeesacp4OK"
      },
      "source": [
        "## Propiedades de las vistas - *View Properties*\r\n",
        "\r\n",
        "Luego de acceder a la vista, ya sea creándola con ```CreateView()``` o asignándola con ```GetActiveView()```, se puede entrar a modificar o inspeccionar las propiedades."
      ]
    },
    {
      "cell_type": "code",
      "metadata": {
        "id": "wqlNhWYNuHmG"
      },
      "source": [
        "vista = GetActiveView()\r\n",
        "\r\n",
        "vista.CenterAxesVisibility\r\n",
        "vista.CenterAxesVisibility = 0"
      ],
      "execution_count": null,
      "outputs": []
    },
    {
      "cell_type": "markdown",
      "metadata": {
        "id": "ue6-YIfKvV04"
      },
      "source": [
        "## Propiedades de la visualización - *Display Properties*\r\n",
        "\r\n",
        "Como se ha visto anteriormente, basta con emplear las funciones ```SetDisplayProperties()``` y ```GetDisplayProperty()```"
      ]
    },
    {
      "cell_type": "code",
      "metadata": {
        "id": "ld2KSP6lzQtB"
      },
      "source": [
        "# Estas acciones sobre fuente activa en lavista activa si es que no se \r\n",
        "# especifica una diferente\r\n",
        "GetDisplayPropertiy('Opacity')\r\n",
        "SetDisplayProperties(Opacity = 0.5)\r\n",
        "\r\n",
        " # Se pede guardar la visualización como un objeto. \r\n",
        " # Bajo las suposiciones anteriores\r\n",
        " visualizacion = GetDisplayProperties()\r\n",
        " visualizacion.Opacity = 0.75"
      ],
      "execution_count": null,
      "outputs": []
    },
    {
      "cell_type": "markdown",
      "metadata": {
        "id": "-JNAUqfyGb5W"
      },
      "source": [
        "## Vistas de renderizado - *Render Views*\r\n",
        "\r\n",
        "Con los comandos anteriores para crear vistas se crea una instancia que haga referencia a una vista de renderizado."
      ]
    },
    {
      "cell_type": "code",
      "metadata": {
        "id": "ZGd0HfeJIlEh"
      },
      "source": [
        "vista = CreateRenderView()  # ... = CreateView('RenderView')"
      ],
      "execution_count": null,
      "outputs": []
    },
    {
      "cell_type": "markdown",
      "metadata": {
        "id": "it4suRknIvQ5"
      },
      "source": [
        "Para visualizar información en esta vista bastará con cargarla tal cual como se explicó en el primer cuaderno de este tutorial, por ejemplo, un cono:"
      ]
    },
    {
      "cell_type": "code",
      "metadata": {
        "id": "uQzYymBAJEIJ"
      },
      "source": [
        "cono = Cone()\r\n",
        "vista = CreateRenderView()  # ... = CreateView('RenderView')\r\n",
        "Show(cono, vista)           # Se especifica la fuente y la vista, de lo     \r\n",
        "                            # contrario tomaría las activas."
      ],
      "execution_count": null,
      "outputs": []
    },
    {
      "cell_type": "markdown",
      "metadata": {
        "id": "Ed0NVLQBJeqv"
      },
      "source": [
        "```pvpython``` al ser una herramienta para batch processing no tiene suficientes herramientas para trabajo interactivo, pero algo se puede hacer cargando a función ```Interact``` en Python."
      ]
    },
    {
      "cell_type": "code",
      "metadata": {
        "id": "s1vsYoAZJutE"
      },
      "source": [
        "# Función interactiva\r\n",
        "Interact()"
      ],
      "execution_count": null,
      "outputs": []
    },
    {
      "cell_type": "markdown",
      "metadata": {
        "id": "TDFQc8c0KfHR"
      },
      "source": [
        "Cosas que se pueden hacer con esta función: modificación de la cámara mediante código, para la cual también existe el concepto de cámara activa."
      ]
    },
    {
      "cell_type": "code",
      "metadata": {
        "id": "fu1C31BhKc4g"
      },
      "source": [
        "# Buscamos la cámara en la vista activa.\r\n",
        "camara = GetActiveCamera()\r\n",
        "\r\n",
        "# O se puede buscar aquella de una vista en específico:\r\n",
        "camara = vista_cualquiera.GetActiveCamera()"
      ],
      "execution_count": null,
      "outputs": []
    },
    {
      "cell_type": "markdown",
      "metadata": {
        "id": "7xEz1KpxQFUE"
      },
      "source": [
        "La posición de la cámara se especifica mediante 5 parámetros:\r\n",
        "\r\n",
        "1. Para mover la cámara alrededor de la escena, se debe dividir la distancia de la cámara desde el punto focal por un valor de plataforma dado (*dolly value*).\r\n",
        "\r\n",
        "```dolly value > 1``` : acercarse al punto focal.\r\n",
        "\r\n",
        "```dolly value < 1``` : alejarse al punto focal."
      ]
    },
    {
      "cell_type": "code",
      "metadata": {
        "id": "AqdxBnUKQ6um"
      },
      "source": [
        "camara.Dolly(10) # Se acerca al punto focal."
      ],
      "execution_count": null,
      "outputs": []
    },
    {
      "cell_type": "markdown",
      "metadata": {
        "id": "aLusGovtRpK-"
      },
      "source": [
        "2. El ángulo de giro de la cámara con respecto a la dirección de proyección"
      ]
    },
    {
      "cell_type": "code",
      "metadata": {
        "id": "aXiPCTCwSVPg"
      },
      "source": [
        "camara.Roll(30) # Ángulo en grados."
      ],
      "execution_count": null,
      "outputs": []
    },
    {
      "cell_type": "markdown",
      "metadata": {
        "id": "Fg4KocHoSRAU"
      },
      "source": [
        "3. Se rota la cámara horizontalmente con respecto a un centro que es el pnunto focal, el azimuth.\r\n"
      ]
    },
    {
      "cell_type": "code",
      "metadata": {
        "id": "l-3ep0s_SPkj"
      },
      "source": [
        "camara.Azimuth(30) # Ángulo en grados."
      ],
      "execution_count": null,
      "outputs": []
    },
    {
      "cell_type": "markdown",
      "metadata": {
        "id": "o3PELdtpS0Bl"
      },
      "source": [
        "4. Se rota el punto focal horizontalmente respecto a un centro que es la posición de la cámara. Rotación horizontal de la escena.\r\n"
      ]
    },
    {
      "cell_type": "code",
      "metadata": {
        "id": "LFQFcD_5TX8c"
      },
      "source": [
        "camara.Yaw(10)"
      ],
      "execution_count": null,
      "outputs": []
    },
    {
      "cell_type": "markdown",
      "metadata": {
        "id": "D1L4NYvgTb_r"
      },
      "source": [
        "5. Rotación vertical de la escena:"
      ]
    },
    {
      "cell_type": "code",
      "metadata": {
        "id": "hSOsZWB4TbvO"
      },
      "source": [
        "camara.Elevation(10)"
      ],
      "execution_count": null,
      "outputs": []
    },
    {
      "cell_type": "markdown",
      "metadata": {
        "id": "geWJSZczTmmZ"
      },
      "source": [
        "6. Rotación vertical de la cámara:"
      ]
    },
    {
      "cell_type": "code",
      "metadata": {
        "id": "JJ1R5JcFTp-k"
      },
      "source": [
        "camara.Pitch(10)"
      ],
      "execution_count": null,
      "outputs": []
    },
    {
      "cell_type": "markdown",
      "metadata": {
        "id": "dlVqknlBTxYs"
      },
      "source": [
        "En conclusión:\r\n",
        "\r\n",
        "| ```Función``` | Breve definición | \r\n",
        "| --- | --- | \r\n",
        "| ```camara.Dolly()``` | distancia focal|\r\n",
        "|```camara.Roll()``` | rotación de la cámara según la proyección|\r\n",
        "|```camara.Azimuth()``` | rotación horizontal de la cámara|\r\n",
        "|```camara.Yaw()``` | rotación horizontal de la escena|\r\n",
        "|```camara.Pitch()``` | rotación vertical de la cámara|\r\n",
        "|```camara.Elevation()``` | rotación vertical de la  escena|\r\n",
        "\r\n",
        "\r\n",
        "También es posible establecer la posición de la cámara de forma explícita:"
      ]
    },
    {
      "cell_type": "code",
      "metadata": {
        "id": "-IAoBSvXUeUQ"
      },
      "source": [
        "camara.SetFocalPoint(0, 0, 0)\r\n",
        "camara.SetPosition(0, 0, -10)\r\n",
        "camara.SetViewUp(0, 1, 0)\r\n",
        "camara.SetViewAngle(30)\r\n",
        "camara.SetParallelProjection(False) # Al ser True, se deberá indicar un valor. \r\n",
        "\r\n",
        "camara.SetParallelScale(1)"
      ],
      "execution_count": null,
      "outputs": []
    },
    {
      "cell_type": "markdown",
      "metadata": {
        "id": "ZoyVRrtiWE8q"
      },
      "source": [
        "Las propiedades de vista y de visualización son igualmente modificables. En cuanto a la visualización, se puede cambiar el tipo de representación (surface, wireframe, etc.) como una propiedad más:"
      ]
    },
    {
      "cell_type": "code",
      "metadata": {
        "id": "fKMK0uGuWU2t"
      },
      "source": [
        "SetDisplayProperties(fuente_a_la_cual_se_le_aplica, \r\n",
        "                     vista_en_la_cual_se_encuentra,\r\n",
        "                     Representation = Surface)  \r\n",
        "                     # Representation = Surface, Outline, Wireframe ..."
      ],
      "execution_count": null,
      "outputs": []
    },
    {
      "cell_type": "markdown",
      "metadata": {
        "id": "6bGr0HVgWvVM"
      },
      "source": [
        "## Vista de gráficos de líneas - *Line Chart Views*\r\n",
        "\r\n",
        "El procedimiento es similar al que se digue con las vistas de renderizado. Por ejmplo, para un gráfico de líneas modelo como el siguiente:"
      ]
    },
    {
      "cell_type": "code",
      "metadata": {
        "id": "3FvFLCptW26I"
      },
      "source": [
        "fuente = Wavelet()\r\n",
        "UpdatePipeline()\r\n",
        "filtro = PlotOverLine()\r\n",
        "Show()\r\n",
        "Render()"
      ],
      "execution_count": null,
      "outputs": []
    },
    {
      "cell_type": "markdown",
      "metadata": {
        "id": "5D7HqQRt5T7X"
      },
      "source": [
        "El filtro ```Plot Over Line``` crea por defecto la vista de tipo gráfico, sin embargo se puede crear manualmente con la función ```CreateView('LineChartView')```\r\n",
        "\r\n",
        "La mayor diferencia frente a las vistas de renderizado, son las propiedades a modificar.\r\n"
      ]
    },
    {
      "cell_type": "code",
      "metadata": {
        "id": "5gtQyxR36RI8"
      },
      "source": [
        "# Acceder a las propiedades de visualización.\r\n",
        "propiedades_visualizacion = GetDisplayProperties()"
      ],
      "execution_count": null,
      "outputs": []
    },
    {
      "cell_type": "code",
      "metadata": {
        "id": "8Dl9Oluw7TQj"
      },
      "source": [
        "# Ver las series visibles\r\n",
        "propiedades_visualizacion.SeriesVisibility\r\n",
        "propiedades_visualizacion.SeriesVisibility = ['serie_01', '1', 'serie_02', '0'] "
      ],
      "execution_count": null,
      "outputs": []
    },
    {
      "cell_type": "markdown",
      "metadata": {
        "id": "XgDRNffX6de-"
      },
      "source": [
        "En el bloque anterior, la línea ```2``` mostrará una lista con parejas ```key-values``` donde la llave es el nombre de la serie y el valor indica si es visible o no. En la línea ```3``` se está modificnado quién es visible y quién no.\r\n",
        "\r\n",
        "\r\n",
        "\r\n"
      ]
    },
    {
      "cell_type": "code",
      "metadata": {
        "id": "8H6NyH6V7YU5"
      },
      "source": [
        "# Modificar colores\r\n",
        "propiedades_visualizacion.SeriesColor\r\n",
        "propiedades_visualizacion.SeriesColor = ['serie_01', '0', '0', '0']"
      ],
      "execution_count": null,
      "outputs": []
    },
    {
      "cell_type": "markdown",
      "metadata": {
        "id": "lwwA8n2679Ni"
      },
      "source": [
        "En el bloque anterior, la línea ```2``` muestra una lista oomo anteriormente, pero con 3 valores, los cuales seran el código del color RGB deseado. En la línea ```3``` estos colores se modifican."
      ]
    },
    {
      "cell_type": "code",
      "metadata": {
        "id": "S5RM_BL78L7M"
      },
      "source": [
        "# Modificar las etiquetas\r\n",
        "propiedades_visualizacion.SeriesLabel\r\n",
        "propiedades_visualizacion.SeriesLabel = ['serie_01', 'etiqueta-a_poner']\r\n",
        "propiedades_visualizacion.SeriesLabel[n] = ['serie_01 -- nueva etiqueta']"
      ],
      "execution_count": null,
      "outputs": []
    },
    {
      "cell_type": "markdown",
      "metadata": {
        "id": "aGSFKi2z8bJl"
      },
      "source": [
        "En el bloque anterior, la línea ```2``` muestra una lista donde el valor es ahora la etiqueta que se le dará a la serie. En la línea ```3``` se modifica la etiqueta.\r\n",
        "\r\n",
        "Al ser estas listas, se puede entrar a un aposición en específico si es que esta se conoce y modiifcar su etiqueta con la sintaxis de la ```4```.\r\n",
        "\r\n",
        "Más modificaciones se pueden hacer, como:"
      ]
    },
    {
      "cell_type": "code",
      "metadata": {
        "id": "lhD4mDoo8qXa"
      },
      "source": [
        "# Todo alicado sobre la vista activa.\r\n",
        "vista = GetActiveView()\r\n",
        "\r\n",
        "vista.ChartTitle      = 'Titulo_del_grafico'     \r\n",
        "vista.BottomAxisTitle = 'Titulo_en_eje_X'\r\n",
        "vista.LeftAxisTitle   = 'Titulo_en_eje_y'"
      ],
      "execution_count": null,
      "outputs": []
    },
    {
      "cell_type": "markdown",
      "metadata": {
        "id": "_xt4a98x-Fiz"
      },
      "source": [
        "## Vista en rebanada - *Slice View*\r\n",
        "\r\n",
        "Esta al ser una vista derivada de las vistas de renderizado, comparte los comandos para el manejo de cámara, y se crea de la siguiente forma:"
      ]
    },
    {
      "cell_type": "code",
      "metadata": {
        "id": "LFYBjhPS-oyY"
      },
      "source": [
        "# Se crea la vista.\r\n",
        "vista = CreateView('MultiSlice')\r\n",
        "\r\n",
        "# Se crean las rebanadas a partir de las propiedades, en x = -10, 0 y 10.\r\n",
        "vista.XSliceValues = [-10, 0, 10]   # Misma sintaxis para el eje Y y eje Z."
      ],
      "execution_count": null,
      "outputs": []
    }
  ]
}