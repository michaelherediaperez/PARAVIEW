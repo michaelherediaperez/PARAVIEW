{
  "nbformat": 4,
  "nbformat_minor": 0,
  "metadata": {
    "colab": {
      "name": "06_Selección_de_los_datos_Python_Selection",
      "provenance": []
    },
    "kernelspec": {
      "name": "python3",
      "display_name": "Python 3"
    }
  },
  "cells": [
    {
      "cell_type": "markdown",
      "metadata": {
        "id": "Qqe_hMXT4UtX"
      },
      "source": [
        "# Selección de los datos mediante Python - Python Selection\n",
        "\n",
        "Para realizar selecciones con Python se emplea el módulo ```paraview.selection```, del cual se puede encontrar más información [aquí](https://kitware.github.io/paraview-docs/latest/python/paraview.selection.html)"
      ]
    },
    {
      "cell_type": "code",
      "metadata": {
        "id": "iHj90a9p4Sys"
      },
      "source": [
        "# Se importa el módulo de selecciones\n",
        "from paraview.selection.import * "
      ],
      "execution_count": null,
      "outputs": []
    },
    {
      "cell_type": "markdown",
      "metadata": {
        "id": "0g8uOoQczP8n"
      },
      "source": [
        "Las funciones serán llamadas desde ```paraview.selection```. El primer ejemplo se hará con la función para seleccionar puntos de una superfifice: ```SelectSurfacePoints()```"
      ]
    },
    {
      "cell_type": "code",
      "metadata": {
        "id": "pkgHMHQv4u35"
      },
      "source": [
        "# Se crea una referencia a la vista activa de renderizado\n",
        "vista = GetActiveView()\n",
        "\n",
        "# En la vista se crea un rectángulo de selección\n",
        "SelectSurfacePoints(Rectangle = [200, 321, 600, 744], View = vista)\n",
        "    # Tooma los elementos visibles dentro de la región definida por\n",
        "    #                                  (600, 744) : pixel coordinate\n",
        "    #               --------------------x \n",
        "    #               |                   |\n",
        "    #               |                   |\n",
        "    #               |                   |\n",
        "    #               |                   |\n",
        "    #               |                   |\n",
        "    #               x--------------------\n",
        "    #            (200, 321) : pixel coordinate\n",
        "\n",
        "# Se añaden puntos dentro de un polígono en la vista activa\n",
        "SelectSurfacePoints(Polygon = [180, 200, 190, 400, 322, 300], Modifier = 'ADD')\n",
        "    # Añade elementos visibles a la seleccioón dentro de la región definida por\n",
        "    #                         (190, 400) : pixel coordinates\n",
        "    #                       *\n",
        "    #                      / \\\n",
        "    #                     /   \\\n",
        "    #                    /     \\\n",
        "    #                   /       \\\n",
        "    #                  /         \\\n",
        "    #                 *-----------*   (322, 300) : pixel coordinate\n",
        "    #               (180, 200) : pixel coordinate    \n",
        "    # \n",
        "    # El parámetro -- Modifier -- toma los siguientes valores.\n",
        "    #  > 'ADD'      : para añadir.\n",
        "    #  > 'SUBTRACT' : para substraer los puntos de la selección.\n",
        "    #  > 'TOGGLE'   : alternar la seleccion.\n",
        "    #  > None       : reempaca la selección anterior con la nueva.\n",
        "\n",
        "\n",
        "\n",
        "# Substraer puntos con otro rectángulo\n",
        "SelectSurfacePoints(Rectangle = [300, 400, 500, 700], Modifier = 'SUBTRACT')\n",
        "\n",
        "\n",
        "# Se extraeny muestran los puntos seleccionados en otro dataset\n",
        "ExtractSelection()\n",
        "Show()\n",
        "\n",
        "# Limpiar la selección\n",
        "ClearSelection()"
      ],
      "execution_count": null,
      "outputs": []
    },
    {
      "cell_type": "markdown",
      "metadata": {
        "id": "2ZLpGZu8zvg5"
      },
      "source": [
        "Se pueden hacer selecciones por ID de celdas y puntos con la función ```SelectIDs()``` y ```SelectCompositeDataIDs```"
      ]
    },
    {
      "cell_type": "code",
      "metadata": {
        "id": "OKCsd2Up4WIs"
      },
      "source": [
        "# Selecciona la celda 1 de tdodos los bloques en un tipo de dato multibloque \n",
        "# en el proceso 0\n",
        "SelectIDs(IDs = [0, 1], FieldType = 'CELL')\n",
        "\n",
        "# Y selecciona la celda 3 del bloque 4 en el proceso 0 y la celda 5 del bloqu3 6 \n",
        "# en el proceso 1\n",
        "SelectCompositeDataIDs(IDs = [4, 0, 3, 6, 1, 5], Modifier = 'ADD')"
      ],
      "execution_count": null,
      "outputs": []
    },
    {
      "cell_type": "markdown",
      "metadata": {
        "id": "2RmU3EQT6XRm"
      },
      "source": [
        "También es posible hacer selección de datos mediante condiciones en Python. "
      ]
    },
    {
      "cell_type": "code",
      "metadata": {
        "id": "SZxvplMG7mpd"
      },
      "source": [
        "QuerySelect(QuaeryString == 'EQPS == max(EQPS)', FieldType = 'CELL')\n",
        "    # Selecciona celdas con el valor máximo de la variable de celda 'EQPS' en la\n",
        "    # vista activa"
      ],
      "execution_count": null,
      "outputs": []
    },
    {
      "cell_type": "markdown",
      "metadata": {
        "id": "KCTfSizn8Gi0"
      },
      "source": [
        "Se cuenta con otras funciones, de las cuales la documentación se puede obtener mediante el comadno ```help()``` o en el link al principio de este cuaderno.\n",
        "\n",
        "| Método  | Descripción   |\n",
        "|------------------|--------------------------|\n",
        "| ```SelectSurfacePoints()``` | Seleccionar puntos visibles dentro de una región rectangular o poligonal |\n",
        "| ```SelectSurfaceCells()``` | Seleccionar celdas visibles dentro de una región rectangular o poligonal |\n",
        "| ```SelectSurfaceBlocks()``` | Seleccionar bloques visibles dentro de una región rectangular |\n",
        "| ```SelectPointsThrough()``` | Seleccionar todos los puntos dentro de una región rectangular sin importar si son visibles o no|\n",
        "| ```SelectCellsThrough()``` | Seleccionar todas las celdas dentro de una región rectangular sin importar si son visibles o no |\n",
        "| ```SelectGlobalIDs()``` | Seleccionar atributos por el ID global |\n",
        "| ```SelectPedigreeIDs()``` | Seleccionar atributos por el Pedigree ID |\n",
        "| ```SelectIDs()``` | Seleccionar atributos por el ID del atributo |\n",
        "| ```SelectCompositeDataIDs()``` | Seleccionar atributos por el ID de la composición de atributos | \n",
        "| ```SelectHierarchicalDataIDs()``` | Selecccionar atributos por la jerarquía del ID de los datos | \n",
        "| ```SelectThresholds()``` | Seleccionar atributos en una fuente estableciendo un umbral en los valores de un arreglo asociada|\n",
        "| ```SelectLocation()``` | Seleccionar puntos por la ubicación |\n",
        "| ```QuerySelect()``` | Seleccionar datos por una condición/expresión |\n",
        "| ```ClearSelection()``` | Borra la selección de la fuente pasada como parámetro |\n"
      ]
    },
    {
      "cell_type": "code",
      "metadata": {
        "id": "EjrE0YsqEPhl"
      },
      "source": [
        ""
      ],
      "execution_count": null,
      "outputs": []
    }
  ]
}