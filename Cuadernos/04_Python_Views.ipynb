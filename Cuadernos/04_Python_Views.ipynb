{
  "nbformat": 4,
  "nbformat_minor": 0,
  "metadata": {
    "colab": {
      "name": "04_Python_Views.ipynb",
      "provenance": []
    },
    "kernelspec": {
      "name": "python3",
      "display_name": "Python 3"
    }
  },
  "cells": [
    {
      "cell_type": "markdown",
      "metadata": {
        "id": "1WNE4396hNky"
      },
      "source": [
        "# Python Views\n",
        "\n",
        "En este pequeño cuaderno se presentan los comandos básicos para trabajar con las *Python Views*: vistas de y desde el lenguaje de programacion ```Python```.\n",
        "\n",
        "## Seleccionar arreglos para plotear\n",
        "\n",
        "El código para crear una *Python View* debe contener dos elementos principales:\n",
        "\n",
        "1. Función para seleccionar los datos.\n",
        "2. Función para plotear los gráficos.\n",
        "\n",
        "Ahora se presenta un ejemplo para la primera función la cual llamaremos ```setup_data(view)```."
      ]
    },
    {
      "cell_type": "code",
      "metadata": {
        "id": "F87Vt6IRg7v8"
      },
      "source": [
        "from paraview.simple import *   "
      ],
      "execution_count": null,
      "outputs": []
    },
    {
      "cell_type": "code",
      "metadata": {
        "id": "XQpo6EXKo22Y"
      },
      "source": [
        "def setup_data(view):\n",
        "\n",
        "    # Se itera sobre los objetos visibles.\n",
        "    for i in xrange(view.GetNumberOfVisibleDaraObjects()):\n",
        "    \n",
        "        # Se accede al objeto:\n",
        "        dataObjeto = view.GetVisibleDataObjectForSetup(i)\n",
        "\n",
        "        # Este data objeto tiene el mismo tipo de dato y estructura que el \n",
        "        # data objeto presente en el servidor, se puede interactuar con el a \n",
        "        # través del Python wrapping.\n",
        "        print('Tamaño de memoria: {0} kilobytes.'.format(dataObjeto.GetActualMemorySize()))\n",
        "\n",
        "        # Se hace una limpieza de los arreglos que hayan sido llamados \n",
        "        # previamente a esta función.\n",
        "        view.DisableAllAttributeArrays()\n",
        "\n",
        "        # Por defecto no se van a pasar arreglos al cliente, esto debe ser \n",
        "        # explícito.\n",
        "        view.SetAttributeArrayStatus(i, vtkDataObject.POINT , 'Density', 1)\n",
        "        view.SetAttributeArrayStatus(i, vtkDataObject.POINT , 'Momentum', 1)\n",
        "\n",
        "        # Se puede agregar otros arreglos de atributos de manera similar.\n",
        "        view.SetAttributeArrayStatus(i, vtkDataObject.FIELD, 'fieldData', 1)"
      ],
      "execution_count": null,
      "outputs": []
    },
    {
      "cell_type": "markdown",
      "metadata": {
        "id": "S4WEWrPjwAgX"
      },
      "source": [
        "El argumento ```view``` es una clase ```vtkPythonView``` la cual define los siguientes métodos para especificar los arreglos de información que se copiaran:\n",
        "\n",
        "| Método  | Descripción   |\n",
        "|------------------|--------------------------|\n",
        "| ```GetNumberOfVisibleDataObjects()``` | Devuelve el número de data objetos visibles en la vista, todos los métodos de ```view``` trabajan con datos visibles |\n",
        "| ```GetVisibleDataObjectForSetup(visibleObjectIndex)```  | Devuelve el índice del data objeto visible en la vista |\n",
        "| ```GetNumberOfAttributeArrays(visibleObjectIndex, attributeType)``` | Devuelve el número de arreglos de atributos para el índice de un objeto visible dado un tipo de atributo: ```vtkDataObject.POINT```, ```vtkDataObject.CELL```, etc. |\n",
        "| ```GetAttributeArrayName(visibleObjectIndex, attributeType, arrayIndex)``` |Devuelve el nombre del arreglo del atipo de atributo dado en el índice del objeto |\n",
        "| ```SetAttributeArraySatatus(visibleObjectIndex, vtkDataObject.POINT, \"Density\", 1)``` | Establece el estado del arreglo como un arreglo de atributos: el primer argumento es el índice del objeto visible, el segundo objeto es la asociación de atributos del arreglo, el tercer argumento es el nombre del arreglo y el último argumento especifica si se debe copiar (1) o no (0) |\n",
        "| ```GetAttributeArrayStatus(visibleOnjectIndex, vtkDataObect.POINT, \"Density\")``` | Recupera el estado del arreglo para el objeto con el índice visible dado con un atributo asociado (segundo argumento) y el nombre (tercer argumento) |\n",
        "|```EnableAllAttributeArrays()``` | Establece copiar todos los arreglos |\n",
        "|```DisableAllAttributeArrays()``` | Establece que no se copie ningún arreglo |\n",
        "\n",
        "\n",
        "## Plotear datos en Python.\n",
        "\n",
        "Una vez se cargan los datos al cliente, el código debe contender una función como ```render(view, widht, height)``` para crear el objeto ```vtkImageData```. \n",
        "\n",
        "Para ilustrar el funcionamiento de esta función un ejemplo muy simple es crear una imagen roja de dimensiones ```widht```X```height```:"
      ]
    },
    {
      "cell_type": "code",
      "metadata": {
        "id": "QlR8LtPtRGvT"
      },
      "source": [
        "from paraview.vtk import vtkImageData\n",
        "from paraview.numeric import VTK_UNSIGNED_CAHR"
      ],
      "execution_count": null,
      "outputs": []
    },
    {
      "cell_type": "code",
      "metadata": {
        "id": "IE8m1R1lFLPS"
      },
      "source": [
        "def render(view, widht, height):\n",
        "    \n",
        "    imagen = vtkImageData()\n",
        "    imagen.SetDimensions(widht, height, 1)\n",
        "\n",
        "    imagen.AllocateSaclars(VTK_UNSIGNED_CHAR, 4)\n",
        "    pixel_array = imagen.GetPointData().GetArray(0)\n",
        "    pixel_array.FillComponent(0, 255.0)              # RGB para el rojo.\n",
        "    pixel_array.FillComponent(1, 0.0)\n",
        "    pixel_array.FillComponent(2, 0.0)\n",
        "    pixel_array.FillComponent(3, 0.0)\n",
        "\n",
        "    return imagen"
      ],
      "execution_count": null,
      "outputs": []
    },
    {
      "cell_type": "markdown",
      "metadata": {
        "id": "Q9-srIAOSptv"
      },
      "source": [
        "Algunos comentarios:\n",
        "\n",
        "* Se espera que la libreria de ```Python``` para plotear  empleada tenga funcionalidades para indicar la información de los pixeles.\n",
        "* La información de los pixeles debe ser copiada al objeto ```vtkImageData``` retornado por la fución ```render(view, widht, height)```; como ventaja, ParaView está optimizado para trabajar con ``` matplotlib```\n",
        "\n",
        "### Configurar una figura de matplotlib\n",
        "\n",
        "Se trabaja con el módulo ```python_view``` integrado con las *Python Views*. Este módulo incluye la función ```matplotlib_figure(widht, height)``` la cual retorna una figura de ```matplotlib``` que puede ser usada con los comandos de ploteo usuales de la librería.\n",
        "\n",
        "Para ilustrar esta función, el siguiente ejemplo crea un histograma a partir de un arreglo llamado ```X``` obtenido del primer objeto visible en el pipeline."
      ]
    },
    {
      "cell_type": "code",
      "metadata": {
        "id": "I6JcI5-UUG_G"
      },
      "source": [
        "from paraview import python_view\n",
        "from paraview.numpy_support import vtk_to_numpy"
      ],
      "execution_count": null,
      "outputs": []
    },
    {
      "cell_type": "code",
      "metadata": {
        "id": "Urf1uBX1Un1c"
      },
      "source": [
        "def render(view, widht, height):\n",
        "\n",
        "    # Se define la figura.\n",
        "    figura = python_view.matplotlib_figure(wight, height)\n",
        "\n",
        "    # Se decorala figura.\n",
        "    ax = figura.add_subplot(1,1,1)\n",
        "    ax.minorticks_on()\n",
        "    ax.set_title('Título')\n",
        "    ax.set_xlabel('Etiqueta eje x')\n",
        "    ax.set_ylabel('Etiqueta eje y')\n",
        "\n",
        "    # Se procesa el primer objeto visible del pipeline browser.\n",
        "    dataObjeto = view.GetVisibleDataObjectForRendering(0)       # 0 : el 1ro.\n",
        "\n",
        "    arreglo = dataObjeto.GetPointData().GetArray('X')\n",
        "\n",
        "    # Se convierte el arreglo VTK a uno de numpy para graficarse.\n",
        "    arreglo_np = vtk_to_numpy(arreglo)\n",
        "\n",
        "    ax.hist(arreglo_np, bins = 10)\n",
        "\n",
        "    return python_view.figure_to_image(figura)      \n",
        "           # Convierte la figura de matplotlib en un objeto vtkImageData."
      ],
      "execution_count": null,
      "outputs": []
    },
    {
      "cell_type": "markdown",
      "metadata": {
        "id": "uB02Uio6WOBO"
      },
      "source": [
        "\n"
      ]
    }
  ]
}