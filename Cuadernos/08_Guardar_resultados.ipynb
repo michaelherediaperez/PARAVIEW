{
  "nbformat": 4,
  "nbformat_minor": 0,
  "metadata": {
    "colab": {
      "name": "08_Guardar_resultados.ipynb",
      "provenance": []
    },
    "kernelspec": {
      "name": "python3",
      "display_name": "Python 3"
    }
  },
  "cells": [
    {
      "cell_type": "markdown",
      "metadata": {
        "id": "P0hWXdNV5v5t"
      },
      "source": [
        "# Guardar resultados\n",
        "\n",
        "En este cuaderno se presentan los comandos necesarios para guardar los archvios creados en paraview desde ```pvpython```. \n",
        "\n",
        "\n",
        "## Guardar datos\n",
        "\n",
        "Como se explicó, dependiendo del proceso en cuestión, paraview cuenta con un menú de opciones en el cual podemos elegir la extensión con la cual se desea guardar; desde ```pvpython``` podemos acceder a las mismas opciones. Por ejemplo, si se quisira guardar un archivo en formato ```.csv``` la sintacis es la siguiente:"
      ]
    },
    {
      "cell_type": "code",
      "metadata": {
        "id": "l_TiPn1P5rfZ"
      },
      "source": [
        "SaveData('nombre_de_guardado.csv', source)         # guardado en .csv\n",
        "SaveData('nombre_de_guardado.extension', source)   # guardado en .extension    "
      ],
      "execution_count": null,
      "outputs": []
    },
    {
      "cell_type": "markdown",
      "metadata": {
        "id": "pg26FsSW9TMe"
      },
      "source": [
        "```source``` es un argumento opcional, e indica el módulo al cual se le desean hacer guardados; si no se especifica se guardará la fuente activa.\n",
        "\n",
        "Para un guardado más completo, se pueden añadir más parámetros al comando:\n"
      ]
    },
    {
      "cell_type": "code",
      "metadata": {
        "id": "95Yy1ciu963D"
      },
      "source": [
        "SaveData('nombre_de_guardado.csv', source, \n",
        "         Precision = 2,\n",
        "         FieldAssociation = \"Points\")"
      ],
      "execution_count": null,
      "outputs": []
    },
    {
      "cell_type": "markdown",
      "metadata": {
        "id": "i7IT3TD1-ZG7"
      },
      "source": [
        "Automáticamente se buscará un esritor (*writer*) para hacer el guardado. Para mayor información de cómo se guardan los archivos desde los menús de paraview se puede activar la función *Python tracing* y de esta forma mejorar un script de guardado.\n",
        "\n",
        "## Guardar renderizados\n",
        "\n",
        "En cuanto a los renderizados podemos hablar de guardar recortes de pantalla (*screenshots*) o exportar.\n",
        "\n",
        "### Guardar screenshots\n",
        "Para guardar recortes de pantalla el comando es intuitivo: ```SaveScreenshot()```"
      ]
    },
    {
      "cell_type": "code",
      "metadata": {
        "id": "2RiddPXL-_XZ"
      },
      "source": [
        "mi_vista = GetActiveView()                              # Tomamos la vista activa\n",
        "SaveScreenshoot('nombre_de_guardado.formato', mi_vista) # Screenshot en formato .formato"
      ],
      "execution_count": null,
      "outputs": []
    },
    {
      "cell_type": "markdown",
      "metadata": {
        "id": "fNqRoOjgEoES"
      },
      "source": [
        "Se puede tomar un recorte de pantalla de todas las vistas que tengamos en una ventana indicando no una vista activa sino el layout activo"
      ]
    },
    {
      "cell_type": "code",
      "metadata": {
        "id": "uRisUJCbE0LX"
      },
      "source": [
        "layout = GetLayout()                              # Tomamos el layout o ventana activa.            \n",
        "SaveScreenshot('nombre_de_guardado.png', layout)  "
      ],
      "execution_count": null,
      "outputs": []
    },
    {
      "cell_type": "markdown",
      "metadata": {
        "id": "NL6AK7EgFG8K"
      },
      "source": [
        "De igual forma que con el cuadro de diálogo *ScreenShot Options* que tenemos en la UI, podemos aclarar ciertas propiedades del guardado, como la resolución, el fonod, etc."
      ]
    },
    {
      "cell_type": "code",
      "metadata": {
        "id": "HbSV55ChFQBw"
      },
      "source": [
        "SaveScreenshot('nombre.png', myview,                       \n",
        "               ImageResolutions = [1500, 1500], \n",
        "               OverrideColorPalette = 'Black Background')\n",
        "\n",
        "# Recordar que entre formatos se comparten las propeidades base, pero también \n",
        "# cuentan con particulares."
      ],
      "execution_count": null,
      "outputs": []
    },
    {
      "cell_type": "markdown",
      "metadata": {
        "id": "JlLj0V_EF0bh"
      },
      "source": [
        "```nombre.png``` será guardado en la dirección donde se encuentre ParaView, así que se puede cambiar por la dirección que se desee, por ejemplo ``` mi\\direccion\\nombre.png```\n",
        "\n",
        "### Exportar escenas\n",
        "\n",
        "Aquí buscamos exportar el renderizado a uno de los formatos soportados, lo cual logramos mediante el comando ```ExportView()``` \n",
        "\n"
      ]
    },
    {
      "cell_type": "code",
      "metadata": {
        "id": "1_NiZR99HiZY"
      },
      "source": [
        "mi_vista = GetActiveView()\n",
        "ExportView('mi\\direccion\\nombre.svg', view = mi_vista, \n",
        "           Plottitle = 'Título', \n",
        "           Compressoutputfile = 1)\n",
        "\n",
        "# Los argumentos dependerán de la extensiónd el archivo."
      ],
      "execution_count": null,
      "outputs": []
    },
    {
      "cell_type": "markdown",
      "metadata": {
        "id": "D1DW-TYtIPjK"
      },
      "source": [
        "## Guardar animaciones\n",
        "\n",
        "Para guardar animaciones recordemos que se puede guardar como una serie de imágenes o como un video, pero el comando es el mismo ```SaveAnimation()```, lo que varían son los argumentos según el formato."
      ]
    },
    {
      "cell_type": "code",
      "metadata": {
        "id": "C0t2JSqjITYq"
      },
      "source": [
        "SaveAnimation('animacion.avi', GetActiveView(),\n",
        "              FrameWindow = [1, 100], \n",
        "              FrameRate = 1)"
      ],
      "execution_count": null,
      "outputs": []
    },
    {
      "cell_type": "markdown",
      "metadata": {
        "id": "BjDKVkwTIf8R"
      },
      "source": [
        "## Guardar el estado\n",
        "\n",
        "Como se explicó en el diaporama, el estado puede ser guardado como un ```.py``` o como un ```.pvsm```; sin embargo, desde ```pvpython``` no es posible guardar en formato ```.py```.\n"
      ]
    },
    {
      "cell_type": "code",
      "metadata": {
        "id": "tU_3MddGIsTC"
      },
      "source": [
        "SaveState('nombre.pvsm')                # Se guarda en la carpeta principal.\n",
        "SaveState('la\\direccion\\nombre.pvsm')   # Se guarda en la dirección.\n",
        "SaveState('nombre.py')                  # NO SE PUEDE HACER."
      ],
      "execution_count": null,
      "outputs": []
    },
    {
      "cell_type": "markdown",
      "metadata": {
        "id": "8paKYtuH29uS"
      },
      "source": [
        "Así mismo se puede cargar un estado ya guardado"
      ]
    },
    {
      "cell_type": "code",
      "metadata": {
        "id": "2N58mQQU3C_Z"
      },
      "source": [
        "LoadState('nombre.pvsm')\n",
        "\n",
        "# Puede especificar la dirección del arhcivo PVSM desde pvpython.\n",
        "LoadSate('nombre.pvsm', \n",
        "         LoadStateDataFileOptions = 'Search files under specified directory', \n",
        "         DataDirectory = 'escribe\\la\\direccion')"
      ],
      "execution_count": null,
      "outputs": []
    },
    {
      "cell_type": "markdown",
      "metadata": {
        "id": "M0ezOGt83nZE"
      },
      "source": [
        "Finalmente, si desea abrir un estado que está guardado como un ```Python Script``` Hágalo desde el botón del ```Python Shell``` *Run Script*."
      ]
    }
  ]
}