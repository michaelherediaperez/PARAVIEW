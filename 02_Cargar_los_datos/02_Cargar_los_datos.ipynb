{
  "nbformat": 4,
  "nbformat_minor": 0,
  "metadata": {
    "colab": {
      "name": "02_Cargar_los_datos.ipynb",
      "provenance": [],
      "collapsed_sections": []
    },
    "kernelspec": {
      "name": "python3",
      "display_name": "Python 3"
    }
  },
  "cells": [
    {
      "cell_type": "markdown",
      "metadata": {
        "id": "beyAkj95URTw"
      },
      "source": [
        "# 02. Cargar los datos\n",
        "\n",
        "---\n",
        "\n",
        "Michael Heredia Pérez - \n",
        "mherediap@unal.edu.co - \n",
        "Universidad Nacional de Colombia Sede Manizales\n",
        "\n",
        "---\n",
        "\n",
        "En este cuaderno se presentan comandos útiles para trabajar la apertura de archivos desde ```pvpython```.\n",
        "\n",
        "### Abriendo un archvivo desde ```pvpython```.\n",
        "\n",
        "Archivos de diferentes extensiones se pueden abrir directamente desde el Python Shell conociendo su dirección. Al hacerlo, un *reader* tomará la dirección y traerá a la interfaz de paraview el archivo.\n",
        "\n",
        "Por ejemplo, si ParaView está instalado en el disco local \"C\" de un dispositivo MS Windows, la siguiente dirección es válida y puede probar el comando directamente, de lo contrario, simplemente cambie la dirección buscando el mismo archivo ```.ex2``` "
      ]
    },
    {
      "cell_type": "code",
      "metadata": {
        "id": "ib1JPGS3Tww9"
      },
      "source": [
        "reader = OpenDataFile('C:\\Program Files\\ParaView 5.8.1-Windows-Python3.7-msvc2015-64bit\\examples\\can.ex2')\n",
        "# Verifique que se abrió \n",
        "if reader:\n",
        "    print('HECHA la lectura.')\n",
        "else:\n",
        "    print('FALLO la lectura')   "
      ],
      "execution_count": null,
      "outputs": []
    },
    {
      "cell_type": "markdown",
      "metadata": {
        "id": "W5cprrHCWUq4"
      },
      "source": [
        "La función ```OpenDataFile()``` determina el mejor lector para la extensión del archvio.\n",
        "\n",
        "En este caso, la terminación ```.ex2``` es un archivo [Exodus II](https://prod-ng.sandia.gov/techlib-noauth/access-control.cgi/1992/922137.pdf), por lo que si se desea leerlo con un lector dedicado a la extensión se puede hacer. No siempre están disponibles, sin embargo, [la lista es muy extensa.](https://www.paraview.org/Wiki/ParaView/Users_Guide/List_of_readers)"
      ]
    },
    {
      "cell_type": "code",
      "metadata": {
        "id": "x8PTt5iRXOyJ"
      },
      "source": [
        "reader2 = ExodusIIReader(FileName = 'C:\\Program Files\\ParaView 5.8.1-Windows-Python3.7-msvc2015-64bit\\examples\\can.ex2')"
      ],
      "execution_count": null,
      "outputs": []
    },
    {
      "cell_type": "markdown",
      "metadata": {
        "id": "l_qGAbgxaaB-"
      },
      "source": [
        "Para mayor información puede correr en el Python Shell la ayuda ```help()```. "
      ]
    },
    {
      "cell_type": "code",
      "metadata": {
        "id": "AYjO1rOia39u"
      },
      "source": [
        "help(reader)            # Información sobre el archivo.\n",
        "help(OpenDataFile)      # Información sobre el comando.\n",
        "help(ExodusIIReader)    # Información sobre el reader."
      ],
      "execution_count": null,
      "outputs": []
    },
    {
      "cell_type": "markdown",
      "metadata": {
        "id": "24QfqOzObOyi"
      },
      "source": [
        "Si se cuenta con **series de archivos** (*datasets*) el comando ```OpenDataFile()``` también es válido, simplemente se deben indicar todos los archivos al tiempo.\n",
        "\n"
      ]
    },
    {
      "cell_type": "code",
      "metadata": {
        "id": "DxKV-sdLb4TV"
      },
      "source": [
        "archvios = ['...\\dirección\\del\\archivo_00.vts',\n",
        "            '...\\dirección\\del\\archivo_01.vts',\n",
        "            '...\\dirección\\del\\archivo_02.vts']\n",
        "\n",
        "# Y se nombra el lector.\n",
        "reader = OpenDataFile(archivos)"
      ],
      "execution_count": null,
      "outputs": []
    },
    {
      "cell_type": "markdown",
      "metadata": {
        "id": "wOW7Q0K_cBJv"
      },
      "source": [
        "Si cuenta con **series temporales** la estructrua es la misma que para una serie de datos, adicionalmente al renderizarlos se activará la herramienta para controlar animaciones. "
      ]
    },
    {
      "cell_type": "code",
      "metadata": {
        "id": "jsfvz2Ofcf2Z"
      },
      "source": [
        "Show()                  # El archivo se visualiza y renderiza para interactuar.\n",
        "Render()\n",
        "\n",
        "# Entrar a la escena de animación.\n",
        "scene = GetAnimationScene()\n",
        "\n",
        "# Mediante la API en la escena se puede iniciar la animación, adelantar, \n",
        "# retroceder, etc.\n",
        "scene.Play()"
      ],
      "execution_count": null,
      "outputs": []
    },
    {
      "cell_type": "markdown",
      "metadata": {
        "id": "hFmLyo23coO2"
      },
      "source": [
        "### Propiedades de los lectores desde ```pvpython```.\n",
        "\n",
        "Las mismas propiedades que se encuentran en el panel de propiedades pueden ser accedidas desde el Python Shell\n"
      ]
    },
    {
      "cell_type": "code",
      "metadata": {
        "id": "S0aR147IdHDx"
      },
      "source": [
        "reader = OpenDataFile('C:\\Program Files\\ParaView 5.8.1-Windows-Python3.7-msvc2015-64bit\\examples\\can.ex2')\n",
        "\n",
        "# El estado de la propiedad 'PointVariables' sería:\n",
        "GetProperty('PointVariables')\n",
        "\n",
        "# Una forma alternativa de hacerlo es:\n",
        "reader.PointVariables\n",
        "\n",
        "# Si queremos un leer un arreglo en específico del archivo.\n",
        "SetProperties(PointVariables = ['DISPL'])\n",
        "\n",
        "# Y verificamos los arreglos que tenemos cargados\n",
        "reader.PointVariables\n",
        "\n",
        "# Para ver todos los arreglos disponibles que sean de tipo punto \n",
        "reader.PointVariables.Available\n",
        "reader.ElementVariables.Available       # Bloques o elementos.\n",
        "reader.GlobalPointVariables.Available   # Variables globales.\n",
        "\n",
        "# Lo anterior solo genera cambios en las propiedades, mas no en el PipeLine o \n",
        "# el lector ya que no se ha re-ejecutado o actualizado\n",
        "Render()\n",
        "\n",
        "# Si defino los arreglos que quiero\n",
        "reader.PointVariables = ['DISPL', 'VEL', 'ACCL']   \n",
        "\n",
        "# Si el lector es mi fuente activa:\n",
        "UpdatePipeline() \n",
        "\n",
        "# Si no estoy seguro de la fuente activa:\n",
        "UpdatePipeline(proxy = reader)\n",
        "\n",
        "# Para ver que las variables, empleador los sigueintes comandos según el tipo \n",
        "# de dato\n",
        "reader.PointData[:]         # Point-centered data.\n",
        "reader.CellData[:]          # Cell-centered data. "
      ],
      "execution_count": null,
      "outputs": []
    },
    {
      "cell_type": "markdown",
      "metadata": {
        "id": "QIRbj9vseKpd"
      },
      "source": [
        "### Actualizando datos\n",
        "\n",
        "Si un archvio se está trabajando o editando a la par que están abiertos en paraview, se puede actualizar internamente en el software mediante el comando ```ReloadFiles()``` o su variante para series de datos."
      ]
    },
    {
      "cell_type": "code",
      "metadata": {
        "id": "3UaE9rWYeh1q"
      },
      "source": [
        "reader = OpenDataFile('...\\archivo.extension')\n",
        "# Se actualiza el archivo.\n",
        "ReloadFiles(reader)\n",
        "\n",
        "# Para archivos generados en serie o temporales.\n",
        "reader = OpenDataFile('serie_de_archivos')\n",
        "ExtendFilesSeries(reader)"
      ],
      "execution_count": null,
      "outputs": []
    }
  ]
}