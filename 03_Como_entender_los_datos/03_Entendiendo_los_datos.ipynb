{
  "nbformat": 4,
  "nbformat_minor": 0,
  "metadata": {
    "colab": {
      "name": "03_Entendiendo_los_datos.ipynb",
      "provenance": []
    },
    "kernelspec": {
      "name": "python3",
      "display_name": "Python 3"
    }
  },
  "cells": [
    {
      "cell_type": "markdown",
      "metadata": {
        "id": "7USKMnkvk6is"
      },
      "source": [
        "# 03. Entendiendo los datos: obtener información de ellos y accederlos\n",
        "\n",
        "\n",
        "-----\n",
        "\n",
        "Michael Heredia Pérez -\n",
        "mherediap@unal.edu.co -\n",
        "Universidad Nacional de Colombia Sede Manizales\n",
        "\n",
        "-----\n",
        "\n",
        "\n",
        "En este cuaderno se hará la presentación del manejo de los objetos VTK para obtenner información de ellos y posteriormente accederlos, todo desde ```pvpython```.\n"
      ]
    },
    {
      "cell_type": "markdown",
      "metadata": {
        "id": "ZOUTTcKgxXln"
      },
      "source": [
        "Comenzamos leyendo un archivo y actualizando el pipeline"
      ]
    },
    {
      "cell_type": "code",
      "metadata": {
        "id": "U6jQ5KUlxXO4"
      },
      "source": [
        "reader = OpenDataFile('C:\\Program Files\\ParaView 5.8.1-Windows-Python3.7-msvc2015-64bit\\examples\\can.ex2')\n",
        "\n",
        "# Se debe actualizar el pipeline, de lo contrario tendremos la información \n",
        "# anterior a la apertura del archivo\n",
        "UpdatePipeline()"
      ],
      "execution_count": null,
      "outputs": []
    },
    {
      "cell_type": "markdown",
      "metadata": {
        "id": "MDwhmtK3xjPM"
      },
      "source": [
        "## Obtener información de los datos\n",
        "\n",
        "A partir del método ```GetDataInformation()``` podemos obtener información respecto cómo se constituyen los arreglos de datos de un archivo."
      ]
    },
    {
      "cell_type": "code",
      "metadata": {
        "id": "hkRDjWqejv3u"
      },
      "source": [
        "informacion = reader.GetDataInformation()\n",
        "\n",
        "# Para obtener el número de celdas o de puntos de los datos\n",
        "informacion.GetNumberOfPoints()\n",
        "informacion.GetNumerOfCells()"
      ],
      "execution_count": null,
      "outputs": []
    },
    {
      "cell_type": "markdown",
      "metadata": {
        "id": "8XT6z4K2yFL0"
      },
      "source": [
        "Para obtener información sobre los arreglos de datos y puntos de celdas disponibles están los métodos ```source.PointData``` y ```source.CellData```"
      ]
    },
    {
      "cell_type": "code",
      "metadata": {
        "id": "yZXOyn0QyTSw"
      },
      "source": [
        "# Obtenemos diccionarios con la información point-centered y cell-centered\n",
        "reader.PointData[:] \n",
        "reader.CellData[:]"
      ],
      "execution_count": null,
      "outputs": []
    },
    {
      "cell_type": "markdown",
      "metadata": {
        "id": "eyeoKqXyydz2"
      },
      "source": [
        "```PointData()``` y ```CellData()``` son directorios donde las keys son los nombres de los arrays y los valores son objetos que proporcionan más información de cada \n",
        "array."
      ]
    },
    {
      "cell_type": "code",
      "metadata": {
        "id": "kNmNRsZTyqx7"
      },
      "source": [
        "# Número de arreglos de tipo point-centered.\n",
        "len(reader.PointData)\n",
        "\n",
        "# Para datos point-centered\n",
        "reader.PointData.keys()         # Los nombres de los arrays disponibles.\n",
        "reader.PointData.values()       # Los valores de los arrays."
      ],
      "execution_count": null,
      "outputs": []
    },
    {
      "cell_type": "markdown",
      "metadata": {
        "id": "tUKXLJXezjoy"
      },
      "source": [
        "Si se fijan, la respuesta dada en pantalla por ```reader.PointData[:]``` y ```reader.PointData.values()``` son los mismos a priori; sin embargo, se puede mostrar que no son los mismos y tampoco tienen la misma dirección de memoria, mediante la siguiente verificación:"
      ]
    },
    {
      "cell_type": "code",
      "metadata": {
        "id": "9XY1veFO0Fuf"
      },
      "source": [
        "datos_pts   = reader.PointData[:]\n",
        "datos_pts_2 = reader.PointData.values()\n",
        "\n",
        "if datos_pts == datos_pts_2:                        \n",
        "    print('Los metodos son equivalentes.')\n",
        "else:\n",
        "    print('Los metodos no son equivalentes.')\n",
        "\n",
        "if datos_pts is datos_pts_2:\n",
        "    print('Misma dirección de memoria.')\n",
        "else:\n",
        "    print('Diferente dirección de memoria.')"
      ],
      "execution_count": null,
      "outputs": []
    },
    {
      "cell_type": "markdown",
      "metadata": {
        "id": "8ffik0q_0X2n"
      },
      "source": [
        "***\n",
        "\n",
        "La razón sigo sin tenerla clara; además, el manual **ParaViewGuide-5.8.1** menciona que el contenido de ambas variables son diccionarios, pero al probar con elcomando ```type()``` se obtiene como resultado que son listas.\n",
        "\n",
        "***\n",
        "\n",
        "Se puede estudiar un componente en especifico de uno de los arreglos de la información.\n"
      ]
    },
    {
      "cell_type": "code",
      "metadata": {
        "id": "OED1ZFdO1YNv"
      },
      "source": [
        "# Podemos obtener información de un arreglo específico de datos.\n",
        "informacion_del_arreglo = reader.PointData['ACCL']\n",
        "\n",
        "# y almacenar el nombre en una variable\n",
        "nombre = informacion_del_arreglo.GetName()\n",
        "\n",
        "# Conocer cupantas tuplas tiene\n",
        "informacion_del_arreglo.GetNumberOfTuples()\n",
        "\n",
        "# y cuantas entradas cada una de ellas\n",
        "informacion_del_arreglo.GetNumberOfComponents()\n",
        "\n",
        "# También el rango de una entrada en especial\n",
        "reader.PointData[nombre].GetRange(0)\n",
        "\n",
        "# Para obtener el rango de la magnitud en casos de matrices de varios \n",
        "# componentes utilice -1 como número de componente.\n",
        "reader.PointData[nombre].GetRange(-1)"
      ],
      "execution_count": null,
      "outputs": []
    },
    {
      "cell_type": "markdown",
      "metadata": {
        "id": "shPdAncW42bm"
      },
      "source": [
        "Finalmente, **recordemos que el motor interno de ParaView es el paquete VTK**, por lo tanto podemos conocer el tipo de dato con el cual estamos trabajando en términos de memoria.\n",
        "\n",
        "Para más información sobre los arreglos VTK este [link](https://vtk.org/doc/nightly/html/classvtkDataArray.html). "
      ]
    },
    {
      "cell_type": "code",
      "metadata": {
        "id": "3cAnLDqS40d7"
      },
      "source": [
        "from paraview import vtk\n",
        "\n",
        "if reader.PointData[nombre].GetDataType() == vtk.VTK_DOUBLE:\n",
        "    print('{} es un VTK DOUBLE ARRAY REFERENCE.'.format(nombre))\n",
        "\n",
        "# paravire.vtk provee acceso a constantes como VTK_DOUBLE, VTK_FLOAT, VTK_INT, \n",
        "# etc.\n",
        "\n",
        "# Asímismo, para evaluar el tipo de conjutno de datos por sí mismo.\n",
        "if reader.GetDataInformation().GetDataSetType() == vtk.VTK_MULTIBLOCK_DATA_SET:\n",
        "    print('Composite dataset that organizes datasets into blocks')"
      ],
      "execution_count": null,
      "outputs": []
    }
  ]
}