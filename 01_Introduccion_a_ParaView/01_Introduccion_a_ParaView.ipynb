{
  "nbformat": 4,
  "nbformat_minor": 0,
  "metadata": {
    "colab": {
      "name": "01_Introduccion_a_ParaView.ipynb",
      "provenance": [],
      "collapsed_sections": []
    },
    "kernelspec": {
      "name": "python3",
      "display_name": "Python 3"
    }
  },
  "cells": [
    {
      "cell_type": "markdown",
      "metadata": {
        "id": "_bK6NdNemwO8"
      },
      "source": [
        "# 01. Introduccion a ```pvpython```\n",
        "\n",
        "Este cuaderno es una introducción a ```pvpython```. Se presentan comandos básicos para controlar el software desde el Python Shell.\n",
        "\n",
        "Hay que tener en cuenta que la librería ```paraview.simple``` [solo es ejecutable desde la interfaz de ```pvpython```](https://www.paraview.org/Wiki/ParaView:pvpython#Getting_Started), siendo esta la que cuenta con el interprete necesario, es un formalismo que se escriba aquí ya que se carga automáticamente al iniciar el Python Shell desde paraview.\n",
        "\n",
        "Todos los comandos son obtenidos del manual [ParaViewGuide-8.5.1](https://www.paraview.org/paraview-guide/) y adaptados en determinados casos."
      ]
    },
    {
      "cell_type": "code",
      "metadata": {
        "id": "W21jHbaWgFNl"
      },
      "source": [
        "# La libreria.\n",
        "from paraview.simple import *"
      ],
      "execution_count": null,
      "outputs": []
    },
    {
      "cell_type": "markdown",
      "metadata": {
        "id": "V22lt5aBmvLC"
      },
      "source": [
        "### Creando fuentes (*sources*)\n",
        "\n",
        "Para crear una fuente en ```pvpython``` basta con escribirlas a manera de método como su nombre en inglés, comenzando por mayúscula; por ejemplo, para crear una esfera:\n"
      ]
    },
    {
      "cell_type": "code",
      "metadata": {
        "id": "PbOAeJrBsQVV"
      },
      "source": [
        "Sphere()\n",
        "\n",
        "# Los reemplazos del botón Apply.\n",
        "Show()          # La define como fuente activa.\n",
        "Render()        # Actualiza propiedades de renderización."
      ],
      "execution_count": null,
      "outputs": []
    },
    {
      "cell_type": "markdown",
      "metadata": {
        "id": "Z7iQX63QsSaR"
      },
      "source": [
        "```Show()``` y ```Render()``` hacen las veces de Apply, es decir que cuando se modifiquen propiedades de los módulos se deberán ejecutar. \n",
        "\n",
        "### Modificando propiedades.\n",
        "\n",
        "Las propiedades son diferentes en cada fuente, sin embargo, la forma de acceder a ellas es la misma, mediante los comandos:\n",
        "\n",
        "+  ```SetProperties(key = valor)``` \n",
        "+  ```GetProperty('key')```\n",
        " \n"
      ]
    },
    {
      "cell_type": "code",
      "metadata": {
        "id": "GhhHkf0RtYJL"
      },
      "source": [
        "# Para cambiar sus propiedades (OJO: se aplica a la fuente activa)\n",
        "SetProperties(Radius = 1.0)\n",
        "\n",
        "# y de forma múltiple también.\n",
        "SetProperties(Center = [1, 0, 0], ThetaResolution = 100)\n",
        "\n",
        "# Podemos obtener las propiedades que queremos conocer:\n",
        "GetProperty('Radius')\n",
        "GetProperty('Center') "
      ],
      "execution_count": null,
      "outputs": []
    },
    {
      "cell_type": "markdown",
      "metadata": {
        "id": "LaaeuQqnt7jv"
      },
      "source": [
        "Las propiedades de visualización también son modificables, mediante los comandos ```SetDisplayProperties()``` y ```GetDisplayProperty()```"
      ]
    },
    {
      "cell_type": "code",
      "metadata": {
        "id": "BdMNv5QeuJFJ"
      },
      "source": [
        "SetDisplayProperties(Opacity = 0.5)\n",
        "GetDisplayProperty('Opacity')"
      ],
      "execution_count": null,
      "outputs": []
    },
    {
      "cell_type": "markdown",
      "metadata": {
        "id": "P8k8vHU0uQyn"
      },
      "source": [
        "### Aplicando filtros (*Filters*)\n",
        "\n",
        "Los filtros, al igual que las fuentes, se llaman mediante su nombre en inglés como un método, y al ser módulos igualmente se abren como módulos activos. "
      ]
    },
    {
      "cell_type": "code",
      "metadata": {
        "id": "tIPdoG9t4NLk"
      },
      "source": [
        "# Aplciando por ejemplo el filtro shrink.\n",
        "Shrink()            # Al llamar al filtro de esta forma se activará sobre la \n",
        "                    # fuente activa.\n",
        "Show()\n",
        "Render()"
      ],
      "execution_count": null,
      "outputs": []
    },
    {
      "cell_type": "markdown",
      "metadata": {
        "id": "RaYemKpx42OE"
      },
      "source": [
        "El filtro se ha convertido en el módulo activo ahora, para moverse entre \n",
        "fuentes debemos conocer el \"input\" o entrada de cada una.\n",
        "\n",
        "Recordemos que el filtro recibió información en su entrada de datos (input port), estos datos son la información de la esfera, entonces si conocemos la instancia de los datos de entrada podremos ocultar la esfera o en otras circunstancias, moverse entre módulos del pipeline.\n",
        "\n",
        "En el [ParaViewGuide-8.5.1](https://www.paraview.org/paraview-guide/) se emplea la siguiente rutina:"
      ]
    },
    {
      "cell_type": "code",
      "metadata": {
        "id": "Cx4IJisW5M5i"
      },
      "source": [
        "entrada_filtro = GetProperty('Input')      \n",
        "\n",
        "# y se puede ocultar la esfera.\n",
        "Hide(entrada_filtro)\n",
        "\n",
        "# Se debe actualizar la vista.\n",
        "Render()    "
      ],
      "execution_count": null,
      "outputs": []
    },
    {
      "cell_type": "markdown",
      "metadata": {
        "id": "_0rNk9I1zlIa"
      },
      "source": [
        "La forma de obtener la instancia de la entrada del filtro en la ```línea 1```` **ES INCORRECTA** y arrojará el siguiente error:\n",
        "\n",
        "```AttributeError: 'paraview.modules.vtkRemotingServerManager.vtkSMInp' object has no attribute 'Port'```\n",
        "\n",
        "Según el [foro de ParaView](https://discourse.paraview.org/t/attributeerror-vtkpvservermanagercorepython-vtksminputproperty-object-has-no-attribute-port/3004) Lo correcto es obtener la instancia de la entrada de datos como se muestra a continuación:\n",
        "\n"
      ]
    },
    {
      "cell_type": "code",
      "metadata": {
        "id": "bU-ZihTK1a_k"
      },
      "source": [
        "\n",
        "# Definir el filtro como un objeto.\n",
        "filtro = Shrink()\n",
        "\n",
        "Show()      # Se vuelve activo.\n",
        "Render()    # Se renderiza.\n",
        "\n",
        "# Se busca la instancia de la entrada de datos del filtro con el método \n",
        "# .Input\n",
        "entrada_filtro = filtro.Input\n",
        "\n",
        "# Se oculta la fuente de la esfera.\n",
        "Hide(entrada_filtro)\n",
        "\n",
        "Render()    # Se renderiza."
      ],
      "execution_count": null,
      "outputs": []
    },
    {
      "cell_type": "markdown",
      "metadata": {
        "id": "C4jRo43n5bZs"
      },
      "source": [
        "La secuencia anterior se simplifica con el entendimiento de la programación orienteada a objetos en las celdas siguientes. Otra manera, sería mediante los comandos ```GetActiveSource()``` y ```SetActiveSource()```; si se fijan, la sintaxis de los comandos es muy intuitiva en el idioma inglés, y su estructura se repite entre ellos.\n"
      ]
    },
    {
      "cell_type": "code",
      "metadata": {
        "id": "UnvMmGjz5y7A"
      },
      "source": [
        "instancia_filtro = GetActiveSource()\n",
        "instancia_esfera = filtro.Input         # La instancia de la esfera es la misma \n",
        "                                        # instancia de la entrada del filtro.\n",
        "\n",
        "# Ahora, pondremos la esfera como la fuente activa.\n",
        "SetActiveSource(instancia_esfera)       # En el pipeline, se resalta el módulo \n",
        "                                        # de la esfera.\n",
        "Hide()                                  # Escondemos la esfera.\n",
        "\n",
        "# Restaura el filtro shrink como la fuente activa.\n",
        "SetActiveSource(instancia_filtro)\n",
        "\n",
        "# Se vuelve a renderizar.\n",
        "Render()"
      ],
      "execution_count": null,
      "outputs": []
    },
    {
      "cell_type": "markdown",
      "metadata": {
        "id": "Sg9TZKeH6eb9"
      },
      "source": [
        "### Sintaxis de la programación orientada a objetos.\n",
        "\n",
        "Ya que todo lo anterior es lenguaje Python, podemos codificar las fuentes como objetos, de esta manera la creación de una esfera sería de la siguiente forma:\n"
      ]
    },
    {
      "cell_type": "code",
      "metadata": {
        "id": "kcSGy5iM5zYW"
      },
      "source": [
        "# Se crea y modifica la esfera.\n",
        "esfera = Sphere()\n",
        "esfera.Radius = 1.0\n",
        "esfera.ThetaResolution = 100\n",
        "\n",
        "# Se crea y configura la vista.\n",
        "esfera_en_pantalla = Show(esfera)\n",
        "vista = Render()\n",
        "esfera_en_pantalla.Opacity = 0.5\n",
        "\n",
        "# Se aplica el filtro.\n",
        "filtro = Shrink(Input = esfera, ShrinkFactor = 0.4)\n",
        "\n",
        "# Se oculta la esfera.\n",
        "Hide(esfera)\n",
        "filtro_en_pantalla = Show(filtro)\n",
        "Render()"
      ],
      "execution_count": null,
      "outputs": []
    },
    {
      "cell_type": "markdown",
      "metadata": {
        "id": "qAVAfoRk7nzw"
      },
      "source": [
        "### Actualizando el Pipeline\n",
        "\n",
        "Sin modificar la vista ni hacer renderizado también es posible actualizar el módulo respecto a modificaciones que se la hagan en las propiedades, o en general, actualizar el pipeline.\n",
        "\n",
        "Por ejemplo, una propiedad es el espacio que ocupa un elemento, y podemos usar esta información para aprender el comando ```UpdatePipeline()```. Si creamos un cilindro, los límites deberán ser los que sus dimensiones por defecto generen, así que al modificar las dimensiones **y actualizar el pipeline** se debería ver en consola los cambios.\n",
        "\n",
        "Se recomienda ejecutar línea a línea este código para ver de lo que se habla.\n"
      ]
    },
    {
      "cell_type": "code",
      "metadata": {
        "id": "wxBthKf98Wv9"
      },
      "source": [
        "cilindro = Cylinder()\n",
        "\n",
        "# Se imprimen los límites \"producidos\" por el cilindro, aunque en realidad no se \n",
        "# haya producido datos hasta el momento.\n",
        "cilindro.GetDataInformation().GetBounds()\n",
        "\n",
        "# Se actualiza el pipeline, explícitamente la fuente activa.\n",
        "UpdatePipeline()\n",
        "\n",
        "# De forma alternativa, se puede actualizar especificando la fuente.\n",
        "UpdatePipeline(proxy = cilindro)\n",
        "\n",
        "# Chequeando los límites otra vez veremos los verdaderos:\n",
        "cilindro.GetDataInformation().GetBounds()\n",
        "\n",
        "# Si volvemos a actualizar el pipeline, no deberán haber modificaciones en estos\n",
        "# limites, ya que no han habido modificaciones en la fuente.\n",
        "UpdatePipeline()\n",
        "cilindro.GetDataInformation().GetBounds()\n",
        "\n",
        "# Si cambiamos una propiedad, y miramos los límites, no van a cambiar ya que no \n",
        "# hemos actualizado el pipeline.\n",
        "cilindro.Radius = 5\n",
        "cilindro.GetDataInformation().GetBounds()\n",
        "\n",
        "UpdatePipeline()\n",
        "cilindro.GetDataInformation().GetBounds()"
      ],
      "execution_count": null,
      "outputs": []
    },
    {
      "cell_type": "markdown",
      "metadata": {
        "id": "lfv9ZEogCkUx"
      },
      "source": [
        "## Comentarios finales.\n",
        "\n",
        "Lo que se vio en este cuaderno fueron comandos para introducir en el Python Shell; sin embargo, usted puede crear un archvios ```.py``` con una secuencia de acciones completa y abrirla directamente en el Python Shell presionando el botón ```Run Script```.\n",
        "\n",
        "![boton_run_script.PNG](data:image/png;base64,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)\n",
        "\n",
        "Tenga en cuenta que: si de la orden de imprimir una cadena de texto introducida por usted para acompañar algún valor, no escriba tildes, ya que obtendrá un error como estos:\n",
        "\n",
        "```SyntaxError: (unicode error) 'utf-8' codec can't decode byte 0xed in position 5: invalid continuation byte```"
      ]
    }
  ]
}